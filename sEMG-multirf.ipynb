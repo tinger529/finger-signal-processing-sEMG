{
 "cells": [
  {
   "attachments": {},
   "cell_type": "markdown",
   "metadata": {},
   "source": [
    "# Random Forest"
   ]
  },
  {
   "cell_type": "code",
   "execution_count": 1,
   "metadata": {},
   "outputs": [
    {
     "name": "stderr",
     "output_type": "stream",
     "text": [
      "/home/steven/.local/lib/python3.8/site-packages/pandas/core/computation/expressions.py:20: UserWarning: Pandas requires version '2.7.3' or newer of 'numexpr' (version '2.7.1' currently installed).\n",
      "  from pandas.core.computation.check import NUMEXPR_INSTALLED\n"
     ]
    }
   ],
   "source": [
    "import numpy as np\n",
    "import os\n",
    "from multilabel import *\n",
    "from sklearn.model_selection import train_test_split\n",
    "import matplotlib.pyplot as plt\n",
    "%matplotlib inline"
   ]
  },
  {
   "attachments": {},
   "cell_type": "markdown",
   "metadata": {},
   "source": [
    "## Prepare Data"
   ]
  },
  {
   "cell_type": "code",
   "execution_count": 2,
   "metadata": {},
   "outputs": [
    {
     "name": "stdout",
     "output_type": "stream",
     "text": [
      "[[0 0 0 0 0]\n",
      " [0 0 0 0 0]\n",
      " [0 0 0 0 0]\n",
      " ...\n",
      " [1 1 1 1 1]\n",
      " [1 1 1 1 1]\n",
      " [1 1 1 1 1]]\n",
      "(4268, 5, 3)\n",
      "(4268, 150, 3)\n",
      "[[0 0 0 0 0]\n",
      " [1 0 1 1 1]\n",
      " [0 0 0 0 0]\n",
      " ...\n",
      " [0 1 0 1 0]\n",
      " [0 0 1 1 0]\n",
      " [0 0 0 0 0]]\n",
      "[[[-129.55076342 -125.02521482  -72.66317768]\n",
      "  [-134.81381476 -131.42820525  -72.59426103]\n",
      "  [-124.66791302 -118.47421486  -72.50820587]\n",
      "  ...\n",
      "  [-109.26502411  -98.44640882  -72.45787792]\n",
      "  [-112.46602081 -102.63262243  -72.64064615]\n",
      "  [-119.17484766 -111.28430731  -72.76729817]]\n",
      "\n",
      " [[  64.537179     -0.95612872   28.23120756]\n",
      "  [  26.32605381    7.28268354   16.01779883]\n",
      "  [  -4.5673848    10.66135452   -0.59689251]\n",
      "  ...\n",
      "  [  43.32447964   72.53300831   13.42874012]\n",
      "  [  39.04084664   56.15888499    8.4632753 ]\n",
      "  [  23.36565362   32.26093965    3.75684226]]\n",
      "\n",
      " [[-132.03247257 -128.91075053  -71.53770895]\n",
      "  [-132.05765315 -127.48873424  -71.52084374]\n",
      "  [-122.11368898 -115.09176063  -71.69485562]\n",
      "  ...\n",
      "  [-110.01369165  -99.61071951  -71.92253158]\n",
      "  [-114.24334057 -105.29564921  -71.73531844]\n",
      "  [-121.67590268 -115.06507716  -71.67500436]]\n",
      "\n",
      " ...\n",
      "\n",
      " [[ -30.66416356  -13.89741589  -27.45713343]\n",
      "  [ -50.37547458  -56.71227606  -28.92630257]\n",
      "  [ -70.02483965  -18.88460807  -30.97161693]\n",
      "  ...\n",
      "  [ -51.01797339  -57.05078854  -28.16290745]\n",
      "  [ -73.54737023  -45.72101446  -26.51598222]\n",
      "  [ -43.200627    -28.60960105  -24.11118371]]\n",
      "\n",
      " [[  49.63604939  -25.24029913    1.20438027]\n",
      "  [  45.15290849  -36.89718817  -10.23904079]\n",
      "  [  31.30515166  -45.21012022  -22.24655085]\n",
      "  ...\n",
      "  [  25.1631252    92.67766607   18.0823643 ]\n",
      "  [  22.04034328  108.19826237   20.97045791]\n",
      "  [   6.32453515  110.73821412   19.68903187]]\n",
      "\n",
      " [[-135.0252091  -132.21883171  -71.88795137]\n",
      "  [-124.80964774 -119.34254435  -72.45751269]\n",
      "  [-116.30238619 -108.71653603  -72.9888074 ]\n",
      "  ...\n",
      "  [-112.16051036 -103.18630097  -72.01253435]\n",
      "  [-118.69389559 -111.36385593  -71.71276546]\n",
      "  [-127.85111478 -122.81256105  -71.61767592]]]\n"
     ]
    }
   ],
   "source": [
    "random_seed = 20230531\n",
    "\n",
    "files = [\n",
    "    'rest.csv',\n",
    "    '12.csv',\n",
    "    '13.csv',\n",
    "    '14.csv',\n",
    "    '15.csv',\n",
    "    '23.csv',\n",
    "    '24.csv',\n",
    "    '25.csv',\n",
    "    '34.csv',\n",
    "    '35.csv',\n",
    "    '45.csv',\n",
    "    '123.csv',\n",
    "    '124.csv',\n",
    "    '125.csv',\n",
    "    '234.csv',\n",
    "    '235.csv',\n",
    "    '1234.csv',\n",
    "    '1235.csv',\n",
    "    '1245.csv',\n",
    "    '1345.csv',\n",
    "    '2345.csv',\n",
    "    '12345.csv'\n",
    "]\n",
    "\n",
    "# Load data\n",
    "path = os.path.abspath(os.getcwd()) # Get current path\n",
    "X_train, labels_train, list_ch_train, X_test, labels_test, list_ch_test = read_training_data(\n",
    "    data_path='%s%sdatasets/dataset4%s' % (path, os.sep, os.sep),\n",
    "    files=files,\n",
    "    shuffle=True,\n",
    "    sub_split=True,\n",
    ")\n",
    "\n",
    "assert list_ch_train == list_ch_test, 'Mismatch in channels!'"
   ]
  },
  {
   "cell_type": "code",
   "execution_count": 3,
   "metadata": {},
   "outputs": [],
   "source": [
    "X_train, X_test = standardize(X_train, X_test)"
   ]
  },
  {
   "attachments": {},
   "cell_type": "markdown",
   "metadata": {},
   "source": [
    "#### Reshape"
   ]
  },
  {
   "cell_type": "code",
   "execution_count": 4,
   "metadata": {},
   "outputs": [],
   "source": [
    "X_train = X_train.reshape(X_train.shape[0], -1)\n",
    "X_test = X_test.reshape(X_test.shape[0], -1) "
   ]
  },
  {
   "attachments": {},
   "cell_type": "markdown",
   "metadata": {},
   "source": [
    "## Fit and Evaluate Model"
   ]
  },
  {
   "cell_type": "code",
   "execution_count": 5,
   "metadata": {},
   "outputs": [],
   "source": [
    "# Data Processing\n",
    "import pandas as pd\n",
    "import numpy as np\n",
    "\n",
    "# Modelling\n",
    "from sklearn.ensemble import RandomForestClassifier\n",
    "from sklearn.multioutput import MultiOutputClassifier\n",
    "from sklearn.tree import DecisionTreeClassifier\n",
    "from sklearn.metrics import accuracy_score, confusion_matrix, precision_score, recall_score, ConfusionMatrixDisplay\n",
    "from sklearn.model_selection import RandomizedSearchCV, train_test_split\n",
    "from scipy.stats import randint\n",
    "\n",
    "# Tree Visualisation\n",
    "from sklearn.tree import export_graphviz\n",
    "from IPython.display import Image"
   ]
  },
  {
   "cell_type": "code",
   "execution_count": 6,
   "metadata": {},
   "outputs": [
    {
     "data": {
      "text/plain": [
       "MultiOutputClassifier(estimator=DecisionTreeClassifier(ccp_alpha=0.0,\n",
       "                                                       class_weight=None,\n",
       "                                                       criterion='gini',\n",
       "                                                       max_depth=None,\n",
       "                                                       max_features=None,\n",
       "                                                       max_leaf_nodes=None,\n",
       "                                                       min_impurity_decrease=0.0,\n",
       "                                                       min_impurity_split=None,\n",
       "                                                       min_samples_leaf=1,\n",
       "                                                       min_samples_split=2,\n",
       "                                                       min_weight_fraction_leaf=0.0,\n",
       "                                                       presort='deprecated',\n",
       "                                                       random_state=None,\n",
       "                                                       splitter='best'),\n",
       "                      n_jobs=None)"
      ]
     },
     "execution_count": 6,
     "metadata": {},
     "output_type": "execute_result"
    }
   ],
   "source": [
    "# rf = RandomForestClassifier(random_state=random_seed)\n",
    "# rf.fit(X_train, labels_train)\n",
    "clf = MultiOutputClassifier(DecisionTreeClassifier())\n",
    "clf.fit(X_train, labels_train)\n"
   ]
  },
  {
   "cell_type": "code",
   "execution_count": 7,
   "metadata": {},
   "outputs": [
    {
     "name": "stdout",
     "output_type": "stream",
     "text": [
      "Accuracy: 0.3888888888888889\n"
     ]
    }
   ],
   "source": [
    "y_pred = clf.predict(X_test)\n",
    "accuracy = accuracy_score(labels_test, y_pred)\n",
    "print(\"Accuracy:\", accuracy)"
   ]
  },
  {
   "attachments": {},
   "cell_type": "markdown",
   "metadata": {},
   "source": [
    "## Test\n"
   ]
  },
  {
   "cell_type": "code",
   "execution_count": 8,
   "metadata": {},
   "outputs": [],
   "source": [
    "from test import *\n",
    "# files = [\n",
    "#     'rest.csv',\n",
    "#     '1st.csv',\n",
    "#     '2nd.csv',\n",
    "#     '3rd.csv',\n",
    "#     '4th.csv',\n",
    "#     '5th.csv',\n",
    "# ]\n",
    "files = [\n",
    "    'rest.csv',\n",
    "    '12.csv',\n",
    "    '13.csv',\n",
    "    '14.csv',\n",
    "    '15.csv',\n",
    "    '23.csv',\n",
    "    '24.csv',\n",
    "    '25.csv',\n",
    "    '34.csv',\n",
    "    '35.csv',\n",
    "    '45.csv',\n",
    "    '123.csv',\n",
    "    '234.csv',\n",
    "    '2345.csv',\n",
    "    '12345.csv',\n",
    "]\n",
    "# files = [\n",
    "#     'rest.csv',\n",
    "#     '123_手心朝上.csv',\n",
    "# ]\n",
    "# read \n",
    "# test_classes = len(files)\n",
    "# path = os.path.abspath(os.getcwd()) # Get current path\n",
    "# X_test, labels_test, list_ch_test = read_testing_data(\n",
    "#     data_path='%s%stest_datasets/testdata3%s' % (path, os.sep, os.sep),\n",
    "#     files=files,\n",
    "#     n_classes=test_classes\n",
    "# )\n",
    "\n",
    "# # standardlize and reshape\n",
    "# X_test = (X_test - np.mean(X_test, axis=0)[None, :, :]) / np.std(X_test, axis=0)[None, :, :]\n",
    "# X_test = X_test.reshape(X_test.shape[0], -1) "
   ]
  },
  {
   "cell_type": "code",
   "execution_count": 9,
   "metadata": {},
   "outputs": [
    {
     "name": "stdout",
     "output_type": "stream",
     "text": [
      "actual: [[0 0 0 0 0]\n",
      " [1 0 1 1 1]\n",
      " [0 0 0 0 0]\n",
      " ...\n",
      " [1 1 1 0 1]\n",
      " [1 0 1 1 1]\n",
      " [1 1 0 1 1]]\n",
      "pred: [[0 0 0 0 0]\n",
      " [1 0 1 1 1]\n",
      " [0 0 0 0 0]\n",
      " ...\n",
      " [0 0 1 1 1]\n",
      " [1 1 0 1 1]\n",
      " [1 1 1 1 1]]\n",
      "Accuracy: 0.3888888888888889\n",
      "score: 0.7976090014064697\n"
     ]
    }
   ],
   "source": [
    "y_pred = clf.predict(X_test)\n",
    "accuracy = accuracy_score(labels_test, y_pred)\n",
    "print('actual:', labels_test)\n",
    "print('pred:', y_pred)\n",
    "print(\"Accuracy:\", accuracy)\n",
    "\n",
    "# my score function\n",
    "l = len(labels_test)\n",
    "score = 0\n",
    "for i in range(l):\n",
    "    for j in range(5):\n",
    "        if labels_test[i][j] == y_pred[i][j]:\n",
    "            score += 1\n",
    "print('score:', score / (l * 5))"
   ]
  }
 ],
 "metadata": {
  "kernelspec": {
   "display_name": "Python 3",
   "language": "python",
   "name": "python3"
  },
  "language_info": {
   "codemirror_mode": {
    "name": "ipython",
    "version": 3
   },
   "file_extension": ".py",
   "mimetype": "text/x-python",
   "name": "python",
   "nbconvert_exporter": "python",
   "pygments_lexer": "ipython3",
   "version": "3.8.10"
  },
  "orig_nbformat": 4
 },
 "nbformat": 4,
 "nbformat_minor": 2
}
