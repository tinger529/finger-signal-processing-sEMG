{
 "cells": [
  {
   "attachments": {},
   "cell_type": "markdown",
   "metadata": {},
   "source": [
    "# Random Forest"
   ]
  },
  {
   "cell_type": "code",
   "execution_count": null,
   "metadata": {},
   "outputs": [
    {
     "name": "stderr",
     "output_type": "stream",
     "text": [
      "/home/steven/.local/lib/python3.8/site-packages/pandas/core/computation/expressions.py:20: UserWarning: Pandas requires version '2.7.3' or newer of 'numexpr' (version '2.7.1' currently installed).\n",
      "  from pandas.core.computation.check import NUMEXPR_INSTALLED\n"
     ]
    }
   ],
   "source": [
    "import numpy as np\n",
    "import os\n",
    "from utilities_rf_m import *\n",
    "from sklearn.model_selection import train_test_split\n",
    "import matplotlib.pyplot as plt\n",
    "%matplotlib inline"
   ]
  },
  {
   "attachments": {},
   "cell_type": "markdown",
   "metadata": {},
   "source": [
    "## Prepare Data"
   ]
  },
  {
   "cell_type": "code",
   "execution_count": null,
   "metadata": {},
   "outputs": [
    {
     "name": "stdout",
     "output_type": "stream",
     "text": [
      "/home/steven/finger-signal-processing-sEMG/datasets/dataset4/m1/rest.csv\n",
      "/home/steven/finger-signal-processing-sEMG/datasets/dataset4/m2/rest.csv\n",
      "/home/steven/finger-signal-processing-sEMG/datasets/dataset4/m3/rest.csv\n",
      "/home/steven/finger-signal-processing-sEMG/datasets/dataset4/m1/12.csv\n",
      "/home/steven/finger-signal-processing-sEMG/datasets/dataset4/m2/12.csv\n",
      "/home/steven/finger-signal-processing-sEMG/datasets/dataset4/m3/12.csv\n",
      "/home/steven/finger-signal-processing-sEMG/datasets/dataset4/m1/13.csv\n",
      "/home/steven/finger-signal-processing-sEMG/datasets/dataset4/m2/13.csv\n",
      "/home/steven/finger-signal-processing-sEMG/datasets/dataset4/m3/13.csv\n",
      "/home/steven/finger-signal-processing-sEMG/datasets/dataset4/m1/14.csv\n",
      "/home/steven/finger-signal-processing-sEMG/datasets/dataset4/m2/14.csv\n",
      "/home/steven/finger-signal-processing-sEMG/datasets/dataset4/m3/14.csv\n",
      "/home/steven/finger-signal-processing-sEMG/datasets/dataset4/m1/15.csv\n",
      "/home/steven/finger-signal-processing-sEMG/datasets/dataset4/m2/15.csv\n",
      "/home/steven/finger-signal-processing-sEMG/datasets/dataset4/m3/15.csv\n",
      "/home/steven/finger-signal-processing-sEMG/datasets/dataset4/m1/23.csv\n",
      "/home/steven/finger-signal-processing-sEMG/datasets/dataset4/m2/23.csv\n",
      "/home/steven/finger-signal-processing-sEMG/datasets/dataset4/m3/23.csv\n",
      "/home/steven/finger-signal-processing-sEMG/datasets/dataset4/m1/24.csv\n",
      "/home/steven/finger-signal-processing-sEMG/datasets/dataset4/m2/24.csv\n",
      "/home/steven/finger-signal-processing-sEMG/datasets/dataset4/m3/24.csv\n",
      "/home/steven/finger-signal-processing-sEMG/datasets/dataset4/m1/25.csv\n",
      "/home/steven/finger-signal-processing-sEMG/datasets/dataset4/m2/25.csv\n",
      "/home/steven/finger-signal-processing-sEMG/datasets/dataset4/m3/25.csv\n",
      "/home/steven/finger-signal-processing-sEMG/datasets/dataset4/m1/34.csv\n",
      "/home/steven/finger-signal-processing-sEMG/datasets/dataset4/m2/34.csv\n",
      "/home/steven/finger-signal-processing-sEMG/datasets/dataset4/m3/34.csv\n",
      "/home/steven/finger-signal-processing-sEMG/datasets/dataset4/m1/35.csv\n",
      "/home/steven/finger-signal-processing-sEMG/datasets/dataset4/m2/35.csv\n",
      "/home/steven/finger-signal-processing-sEMG/datasets/dataset4/m3/35.csv\n",
      "/home/steven/finger-signal-processing-sEMG/datasets/dataset4/m1/45.csv\n",
      "/home/steven/finger-signal-processing-sEMG/datasets/dataset4/m2/45.csv\n",
      "/home/steven/finger-signal-processing-sEMG/datasets/dataset4/m3/45.csv\n",
      "/home/steven/finger-signal-processing-sEMG/datasets/dataset4/m1/123.csv\n",
      "/home/steven/finger-signal-processing-sEMG/datasets/dataset4/m2/123.csv\n",
      "/home/steven/finger-signal-processing-sEMG/datasets/dataset4/m3/123.csv\n",
      "/home/steven/finger-signal-processing-sEMG/datasets/dataset4/m1/124.csv\n",
      "/home/steven/finger-signal-processing-sEMG/datasets/dataset4/m2/124.csv\n",
      "/home/steven/finger-signal-processing-sEMG/datasets/dataset4/m3/124.csv\n",
      "/home/steven/finger-signal-processing-sEMG/datasets/dataset4/m1/125.csv\n",
      "/home/steven/finger-signal-processing-sEMG/datasets/dataset4/m2/125.csv\n",
      "/home/steven/finger-signal-processing-sEMG/datasets/dataset4/m3/125.csv\n",
      "/home/steven/finger-signal-processing-sEMG/datasets/dataset4/m1/234.csv\n",
      "/home/steven/finger-signal-processing-sEMG/datasets/dataset4/m2/234.csv\n",
      "/home/steven/finger-signal-processing-sEMG/datasets/dataset4/m3/234.csv\n",
      "/home/steven/finger-signal-processing-sEMG/datasets/dataset4/m1/235.csv\n",
      "/home/steven/finger-signal-processing-sEMG/datasets/dataset4/m2/235.csv\n",
      "/home/steven/finger-signal-processing-sEMG/datasets/dataset4/m3/235.csv\n",
      "/home/steven/finger-signal-processing-sEMG/datasets/dataset4/m1/1234.csv\n",
      "/home/steven/finger-signal-processing-sEMG/datasets/dataset4/m2/1234.csv\n",
      "/home/steven/finger-signal-processing-sEMG/datasets/dataset4/m3/1234.csv\n",
      "/home/steven/finger-signal-processing-sEMG/datasets/dataset4/m1/1235.csv\n",
      "/home/steven/finger-signal-processing-sEMG/datasets/dataset4/m2/1235.csv\n",
      "/home/steven/finger-signal-processing-sEMG/datasets/dataset4/m3/1235.csv\n",
      "/home/steven/finger-signal-processing-sEMG/datasets/dataset4/m1/1245.csv\n",
      "/home/steven/finger-signal-processing-sEMG/datasets/dataset4/m2/1245.csv\n",
      "/home/steven/finger-signal-processing-sEMG/datasets/dataset4/m3/1245.csv\n",
      "/home/steven/finger-signal-processing-sEMG/datasets/dataset4/m1/1345.csv\n",
      "/home/steven/finger-signal-processing-sEMG/datasets/dataset4/m2/1345.csv\n",
      "/home/steven/finger-signal-processing-sEMG/datasets/dataset4/m3/1345.csv\n",
      "/home/steven/finger-signal-processing-sEMG/datasets/dataset4/m1/2345.csv\n",
      "/home/steven/finger-signal-processing-sEMG/datasets/dataset4/m2/2345.csv\n",
      "/home/steven/finger-signal-processing-sEMG/datasets/dataset4/m3/2345.csv\n",
      "/home/steven/finger-signal-processing-sEMG/datasets/dataset4/m1/12345.csv\n",
      "/home/steven/finger-signal-processing-sEMG/datasets/dataset4/m2/12345.csv\n",
      "/home/steven/finger-signal-processing-sEMG/datasets/dataset4/m3/12345.csv\n",
      "696\n",
      "696\n"
     ]
    }
   ],
   "source": [
    "random_seed = 20230523\n",
    "# files = [\n",
    "#     'rest.csv',\n",
    "#     '1st.csv',\n",
    "#     '2nd.csv',\n",
    "#     '3rd.csv',\n",
    "#     '4th.csv',\n",
    "#     '5th.csv'\n",
    "# ]\n",
    "files = [\n",
    "    'rest.csv',\n",
    "    '12.csv',\n",
    "    '13.csv',\n",
    "    '14.csv',\n",
    "    '15.csv',\n",
    "    '23.csv',\n",
    "    '24.csv',\n",
    "    '25.csv',\n",
    "    '34.csv',\n",
    "    '35.csv',\n",
    "    '45.csv',\n",
    "    '123.csv',\n",
    "    '124.csv',\n",
    "    '125.csv',\n",
    "    '234.csv',\n",
    "    '235.csv',\n",
    "    '1234.csv',\n",
    "    '1235.csv',\n",
    "    '1245.csv',\n",
    "    '1345.csv',\n",
    "    '2345.csv',\n",
    "    '12345.csv'\n",
    "]\n",
    "\n",
    "# Load data\n",
    "path = os.path.abspath(os.getcwd()) # Get current path\n",
    "X_train, labels_train, list_ch_train, X_test, labels_test, list_ch_test = read_training_data(\n",
    "    data_path='%s%sdatasets/dataset4%s' % (path, os.sep, os.sep),\n",
    "    files=files,\n",
    "    shuffle=True,\n",
    "    sub_split=True,\n",
    ")\n",
    "\n",
    "assert list_ch_train == list_ch_test, 'Mismatch in channels!'"
   ]
  },
  {
   "cell_type": "code",
   "execution_count": null,
   "metadata": {},
   "outputs": [],
   "source": [
    "X_train, X_test = standardize(X_train, X_test)"
   ]
  },
  {
   "attachments": {},
   "cell_type": "markdown",
   "metadata": {},
   "source": [
    "#### Reshape"
   ]
  },
  {
   "cell_type": "code",
   "execution_count": null,
   "metadata": {},
   "outputs": [],
   "source": [
    "X_train = X_train.reshape(X_train.shape[0], -1)\n",
    "X_test = X_test.reshape(X_test.shape[0], -1) "
   ]
  },
  {
   "attachments": {},
   "cell_type": "markdown",
   "metadata": {},
   "source": [
    "## Fit and Evaluate Model"
   ]
  },
  {
   "cell_type": "code",
   "execution_count": null,
   "metadata": {},
   "outputs": [],
   "source": [
    "# Data Processing\n",
    "import pandas as pd\n",
    "import numpy as np\n",
    "\n",
    "# Modelling\n",
    "from sklearn.ensemble import RandomForestClassifier\n",
    "from sklearn.metrics import accuracy_score, confusion_matrix, precision_score, recall_score, ConfusionMatrixDisplay\n",
    "from sklearn.model_selection import RandomizedSearchCV, train_test_split\n",
    "from scipy.stats import randint\n",
    "\n",
    "# Tree Visualisation\n",
    "from sklearn.tree import export_graphviz\n",
    "from IPython.display import Image"
   ]
  },
  {
   "cell_type": "code",
   "execution_count": null,
   "metadata": {},
   "outputs": [],
   "source": [
    "rf = RandomForestClassifier(random_state=random_seed)\n",
    "rf.fit(X_train, labels_train)\n"
   ]
  },
  {
   "cell_type": "code",
   "execution_count": null,
   "metadata": {},
   "outputs": [],
   "source": [
    "y_pred = rf.predict(X_test)\n",
    "accuracy = accuracy_score(labels_test, y_pred)\n",
    "print(\"Accuracy:\", accuracy)"
   ]
  },
  {
   "attachments": {},
   "cell_type": "markdown",
   "metadata": {},
   "source": [
    "## Test\n"
   ]
  },
  {
   "cell_type": "code",
   "execution_count": null,
   "metadata": {},
   "outputs": [],
   "source": [
    "from test import *\n",
    "# files = [\n",
    "#     'rest.csv',\n",
    "#     '1st.csv',\n",
    "#     '2nd.csv',\n",
    "#     '3rd.csv',\n",
    "#     '4th.csv',\n",
    "#     '5th.csv',\n",
    "# ]\n",
    "# files = [\n",
    "#     'rest.csv',\n",
    "#     '123_手心朝上.csv',\n",
    "# ]\n",
    "files = [\n",
    "    'rest.csv',\n",
    "    '12.csv',\n",
    "    '13.csv',\n",
    "    '14.csv',\n",
    "    '15.csv',\n",
    "    '23.csv',\n",
    "    '24.csv',\n",
    "    '25.csv',\n",
    "    '34.csv',\n",
    "    '35.csv',\n",
    "    '45.csv',\n",
    "    '123.csv',\n",
    "    '234.csv',\n",
    "    '2345.csv',\n",
    "    '12345.csv',\n",
    "]\n",
    "# read \n",
    "test_classes = len(files)\n",
    "path = os.path.abspath(os.getcwd()) # Get current path\n",
    "X_test, labels_test, list_ch_test = read_testing_data(\n",
    "    data_path='%s%stest_datasets/testdata3%s' % (path, os.sep, os.sep),\n",
    "    files=files,\n",
    "    n_classes=test_classes\n",
    ")\n",
    "\n",
    "# # standardlize and reshape\n",
    "# X_test = (X_test - np.mean(X_test, axis=0)[None, :, :]) / np.std(X_test, axis=0)[None, :, :]\n",
    "# X_test = X_test.reshape(X_test.shape[0], -1) "
   ]
  },
  {
   "cell_type": "code",
   "execution_count": null,
   "metadata": {},
   "outputs": [],
   "source": [
    "y_pred = rf.predict(X_test)\n",
    "accuracy = accuracy_score(labels_test, y_pred)\n",
    "print('actual:', labels_test)\n",
    "print('pred:', y_pred)\n",
    "print(\"Accuracy:\", accuracy)"
   ]
  }
 ],
 "metadata": {
  "kernelspec": {
   "display_name": "Python 3",
   "language": "python",
   "name": "python3"
  },
  "language_info": {
   "codemirror_mode": {
    "name": "ipython",
    "version": 3
   },
   "file_extension": ".py",
   "mimetype": "text/x-python",
   "name": "python",
   "nbconvert_exporter": "python",
   "pygments_lexer": "ipython3",
   "version": "3.8.10"
  },
  "orig_nbformat": 4
 },
 "nbformat": 4,
 "nbformat_minor": 2
}
