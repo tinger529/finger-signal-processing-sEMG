{
 "cells": [
  {
   "attachments": {},
   "cell_type": "markdown",
   "metadata": {},
   "source": [
    "# Random Forest"
   ]
  },
  {
   "cell_type": "code",
   "execution_count": 1,
   "metadata": {},
   "outputs": [
    {
     "name": "stderr",
     "output_type": "stream",
     "text": [
      "/home/steven/.local/lib/python3.8/site-packages/pandas/core/computation/expressions.py:20: UserWarning: Pandas requires version '2.7.3' or newer of 'numexpr' (version '2.7.1' currently installed).\n",
      "  from pandas.core.computation.check import NUMEXPR_INSTALLED\n"
     ]
    }
   ],
   "source": [
    "import numpy as np\n",
    "import os\n",
    "from utilities_rf_m import *\n",
    "from sklearn.model_selection import train_test_split\n",
    "import matplotlib.pyplot as plt\n",
    "%matplotlib inline"
   ]
  },
  {
   "attachments": {},
   "cell_type": "markdown",
   "metadata": {},
   "source": [
    "## Prepare Data"
   ]
  },
  {
   "cell_type": "code",
   "execution_count": 2,
   "metadata": {},
   "outputs": [
    {
     "name": "stdout",
     "output_type": "stream",
     "text": [
      "/home/steven/finger-signal-processing-sEMG/datasets/dataset4/m1/rest.csv\n",
      "/home/steven/finger-signal-processing-sEMG/datasets/dataset4/m2/rest.csv\n",
      "/home/steven/finger-signal-processing-sEMG/datasets/dataset4/m3/rest.csv\n",
      "/home/steven/finger-signal-processing-sEMG/datasets/dataset4/m1/12.csv\n",
      "/home/steven/finger-signal-processing-sEMG/datasets/dataset4/m2/12.csv\n",
      "/home/steven/finger-signal-processing-sEMG/datasets/dataset4/m3/12.csv\n",
      "/home/steven/finger-signal-processing-sEMG/datasets/dataset4/m1/13.csv\n",
      "/home/steven/finger-signal-processing-sEMG/datasets/dataset4/m2/13.csv\n",
      "/home/steven/finger-signal-processing-sEMG/datasets/dataset4/m3/13.csv\n",
      "/home/steven/finger-signal-processing-sEMG/datasets/dataset4/m1/14.csv\n",
      "/home/steven/finger-signal-processing-sEMG/datasets/dataset4/m2/14.csv\n",
      "/home/steven/finger-signal-processing-sEMG/datasets/dataset4/m3/14.csv\n",
      "/home/steven/finger-signal-processing-sEMG/datasets/dataset4/m1/15.csv\n",
      "/home/steven/finger-signal-processing-sEMG/datasets/dataset4/m2/15.csv\n",
      "/home/steven/finger-signal-processing-sEMG/datasets/dataset4/m3/15.csv\n",
      "/home/steven/finger-signal-processing-sEMG/datasets/dataset4/m1/23.csv\n",
      "/home/steven/finger-signal-processing-sEMG/datasets/dataset4/m2/23.csv\n",
      "/home/steven/finger-signal-processing-sEMG/datasets/dataset4/m3/23.csv\n",
      "/home/steven/finger-signal-processing-sEMG/datasets/dataset4/m1/24.csv\n",
      "/home/steven/finger-signal-processing-sEMG/datasets/dataset4/m2/24.csv\n",
      "/home/steven/finger-signal-processing-sEMG/datasets/dataset4/m3/24.csv\n",
      "/home/steven/finger-signal-processing-sEMG/datasets/dataset4/m1/25.csv\n",
      "/home/steven/finger-signal-processing-sEMG/datasets/dataset4/m2/25.csv\n",
      "/home/steven/finger-signal-processing-sEMG/datasets/dataset4/m3/25.csv\n",
      "/home/steven/finger-signal-processing-sEMG/datasets/dataset4/m1/34.csv\n",
      "/home/steven/finger-signal-processing-sEMG/datasets/dataset4/m2/34.csv\n",
      "/home/steven/finger-signal-processing-sEMG/datasets/dataset4/m3/34.csv\n",
      "/home/steven/finger-signal-processing-sEMG/datasets/dataset4/m1/35.csv\n",
      "/home/steven/finger-signal-processing-sEMG/datasets/dataset4/m2/35.csv\n",
      "/home/steven/finger-signal-processing-sEMG/datasets/dataset4/m3/35.csv\n",
      "/home/steven/finger-signal-processing-sEMG/datasets/dataset4/m1/45.csv\n",
      "/home/steven/finger-signal-processing-sEMG/datasets/dataset4/m2/45.csv\n",
      "/home/steven/finger-signal-processing-sEMG/datasets/dataset4/m3/45.csv\n",
      "/home/steven/finger-signal-processing-sEMG/datasets/dataset4/m1/123.csv\n",
      "/home/steven/finger-signal-processing-sEMG/datasets/dataset4/m2/123.csv\n",
      "/home/steven/finger-signal-processing-sEMG/datasets/dataset4/m3/123.csv\n",
      "/home/steven/finger-signal-processing-sEMG/datasets/dataset4/m1/124.csv\n",
      "/home/steven/finger-signal-processing-sEMG/datasets/dataset4/m2/124.csv\n",
      "/home/steven/finger-signal-processing-sEMG/datasets/dataset4/m3/124.csv\n",
      "/home/steven/finger-signal-processing-sEMG/datasets/dataset4/m1/125.csv\n",
      "/home/steven/finger-signal-processing-sEMG/datasets/dataset4/m2/125.csv\n",
      "/home/steven/finger-signal-processing-sEMG/datasets/dataset4/m3/125.csv\n",
      "/home/steven/finger-signal-processing-sEMG/datasets/dataset4/m1/234.csv\n",
      "/home/steven/finger-signal-processing-sEMG/datasets/dataset4/m2/234.csv\n",
      "/home/steven/finger-signal-processing-sEMG/datasets/dataset4/m3/234.csv\n",
      "/home/steven/finger-signal-processing-sEMG/datasets/dataset4/m1/235.csv\n",
      "/home/steven/finger-signal-processing-sEMG/datasets/dataset4/m2/235.csv\n",
      "/home/steven/finger-signal-processing-sEMG/datasets/dataset4/m3/235.csv\n",
      "/home/steven/finger-signal-processing-sEMG/datasets/dataset4/m1/1234.csv\n",
      "/home/steven/finger-signal-processing-sEMG/datasets/dataset4/m2/1234.csv\n",
      "/home/steven/finger-signal-processing-sEMG/datasets/dataset4/m3/1234.csv\n",
      "/home/steven/finger-signal-processing-sEMG/datasets/dataset4/m1/1235.csv\n",
      "/home/steven/finger-signal-processing-sEMG/datasets/dataset4/m2/1235.csv\n",
      "/home/steven/finger-signal-processing-sEMG/datasets/dataset4/m3/1235.csv\n",
      "/home/steven/finger-signal-processing-sEMG/datasets/dataset4/m1/1245.csv\n",
      "/home/steven/finger-signal-processing-sEMG/datasets/dataset4/m2/1245.csv\n",
      "/home/steven/finger-signal-processing-sEMG/datasets/dataset4/m3/1245.csv\n",
      "/home/steven/finger-signal-processing-sEMG/datasets/dataset4/m1/1345.csv\n",
      "/home/steven/finger-signal-processing-sEMG/datasets/dataset4/m2/1345.csv\n",
      "/home/steven/finger-signal-processing-sEMG/datasets/dataset4/m3/1345.csv\n",
      "/home/steven/finger-signal-processing-sEMG/datasets/dataset4/m1/2345.csv\n",
      "/home/steven/finger-signal-processing-sEMG/datasets/dataset4/m2/2345.csv\n",
      "/home/steven/finger-signal-processing-sEMG/datasets/dataset4/m3/2345.csv\n",
      "/home/steven/finger-signal-processing-sEMG/datasets/dataset4/m1/12345.csv\n",
      "/home/steven/finger-signal-processing-sEMG/datasets/dataset4/m2/12345.csv\n",
      "/home/steven/finger-signal-processing-sEMG/datasets/dataset4/m3/12345.csv\n",
      "696\n",
      "696\n"
     ]
    }
   ],
   "source": [
    "random_seed = 20230523\n",
    "# files = [\n",
    "#     'rest.csv',\n",
    "#     '1st.csv',\n",
    "#     '2nd.csv',\n",
    "#     '3rd.csv',\n",
    "#     '4th.csv',\n",
    "#     '5th.csv'\n",
    "# ]\n",
    "files = [\n",
    "    'rest.csv',\n",
    "    '12.csv',\n",
    "    '13.csv',\n",
    "    '14.csv',\n",
    "    '15.csv',\n",
    "    '23.csv',\n",
    "    '24.csv',\n",
    "    '25.csv',\n",
    "    '34.csv',\n",
    "    '35.csv',\n",
    "    '45.csv',\n",
    "    '123.csv',\n",
    "    '124.csv',\n",
    "    '125.csv',\n",
    "    '234.csv',\n",
    "    '235.csv',\n",
    "    '1234.csv',\n",
    "    '1235.csv',\n",
    "    '1245.csv',\n",
    "    '1345.csv',\n",
    "    '2345.csv',\n",
    "    '12345.csv'\n",
    "]\n",
    "\n",
    "# Load data\n",
    "path = os.path.abspath(os.getcwd()) # Get current path\n",
    "X_train, labels_train, list_ch_train, X_test, labels_test, list_ch_test = read_training_data(\n",
    "    data_path='%s%sdatasets/dataset4%s' % (path, os.sep, os.sep),\n",
    "    files=files,\n",
    "    shuffle=True,\n",
    "    sub_split=True,\n",
    ")\n",
    "\n",
    "assert list_ch_train == list_ch_test, 'Mismatch in channels!'"
   ]
  },
  {
   "cell_type": "code",
   "execution_count": 3,
   "metadata": {},
   "outputs": [],
   "source": [
    "X_train, X_test = standardize(X_train, X_test)"
   ]
  },
  {
   "attachments": {},
   "cell_type": "markdown",
   "metadata": {},
   "source": [
    "#### Reshape"
   ]
  },
  {
   "cell_type": "code",
   "execution_count": 4,
   "metadata": {},
   "outputs": [],
   "source": [
    "X_train = X_train.reshape(X_train.shape[0], -1)\n",
    "X_test = X_test.reshape(X_test.shape[0], -1) "
   ]
  },
  {
   "attachments": {},
   "cell_type": "markdown",
   "metadata": {},
   "source": [
    "## Fit and Evaluate Model"
   ]
  },
  {
   "cell_type": "code",
   "execution_count": 5,
   "metadata": {},
   "outputs": [],
   "source": [
    "# Data Processing\n",
    "import pandas as pd\n",
    "import numpy as np\n",
    "\n",
    "# Modelling\n",
    "from sklearn.ensemble import RandomForestClassifier\n",
    "from sklearn.metrics import accuracy_score, confusion_matrix, precision_score, recall_score, ConfusionMatrixDisplay\n",
    "from sklearn.model_selection import RandomizedSearchCV, train_test_split\n",
    "from scipy.stats import randint\n",
    "\n",
    "# Tree Visualisation\n",
    "from sklearn.tree import export_graphviz\n",
    "from IPython.display import Image"
   ]
  },
  {
   "cell_type": "code",
   "execution_count": 6,
   "metadata": {},
   "outputs": [
    {
     "data": {
      "text/plain": [
       "RandomForestClassifier(bootstrap=True, ccp_alpha=0.0, class_weight=None,\n",
       "                       criterion='gini', max_depth=None, max_features='auto',\n",
       "                       max_leaf_nodes=None, max_samples=None,\n",
       "                       min_impurity_decrease=0.0, min_impurity_split=None,\n",
       "                       min_samples_leaf=1, min_samples_split=2,\n",
       "                       min_weight_fraction_leaf=0.0, n_estimators=100,\n",
       "                       n_jobs=None, oob_score=False, random_state=20230523,\n",
       "                       verbose=0, warm_start=False)"
      ]
     },
     "execution_count": 6,
     "metadata": {},
     "output_type": "execute_result"
    }
   ],
   "source": [
    "rf = RandomForestClassifier(random_state=random_seed)\n",
    "rf.fit(X_train, labels_train)\n"
   ]
  },
  {
   "cell_type": "code",
   "execution_count": 7,
   "metadata": {},
   "outputs": [
    {
     "name": "stdout",
     "output_type": "stream",
     "text": [
      "Accuracy: 0.4698275862068966\n"
     ]
    }
   ],
   "source": [
    "y_pred = rf.predict(X_test)\n",
    "accuracy = accuracy_score(labels_test, y_pred)\n",
    "print(\"Accuracy:\", accuracy)"
   ]
  },
  {
   "attachments": {},
   "cell_type": "markdown",
   "metadata": {},
   "source": [
    "## Test\n"
   ]
  },
  {
   "cell_type": "code",
   "execution_count": 8,
   "metadata": {},
   "outputs": [],
   "source": [
    "from test import *\n",
    "# files = [\n",
    "    # 'rest.csv',\n",
    "    # '1st.csv',\n",
    "    # '2nd.csv',\n",
    "    # '3rd.csv',\n",
    "    # '4th.csv',\n",
    "    # '5th.csv',\n",
    "# ]\n",
    "files = [\n",
    "    'rest.csv',\n",
    "    '123_手心朝上.csv',\n",
    "]\n",
    "# read \n",
    "# test_classes = len(files)\n",
    "# path = os.path.abspath(os.getcwd()) # Get current path\n",
    "# X_test, labels_test, list_ch_test = read_testing_data(\n",
    "#     data_path='%s%stest_datasets/testdata4%s' % (path, os.sep, os.sep),\n",
    "#     files=files,\n",
    "#     n_classes=test_classes\n",
    "# )\n",
    "\n",
    "# # standardlize and reshape\n",
    "# X_test = (X_test - np.mean(X_test, axis=0)[None, :, :]) / np.std(X_test, axis=0)[None, :, :]\n",
    "# X_test = X_test.reshape(X_test.shape[0], -1) "
   ]
  },
  {
   "cell_type": "code",
   "execution_count": 9,
   "metadata": {},
   "outputs": [
    {
     "name": "stdout",
     "output_type": "stream",
     "text": [
      "actual: [22  4 20  6 13 18 11  9 16  8  5 20  4 18  2 20 11  4 22 15 11  5 15 17\n",
      " 16 11 16  6 12 18  0 14 17  4 23 11  6  3 13 21  5 14  9 12 21 15 18  1\n",
      "  9 21 15 15  6 12  4 10 21 23 19  6  7 17  8 13 19 10  9  9  4 15 10  5\n",
      "  4  7 19  7 17 20 10  5  7 10 23  8 11 12 20 17  7 13  6 11  4 14  0 13\n",
      " 14 16  3  3 14 19 18 16  0  9  1  5  5 18 22 14 14 14  8 18 17 10  4  2\n",
      " 12 21 14  1  5 14  8 18 16  2 22  6  7 16  9 13  4  8 19 20  9  0 19  9\n",
      "  2 22 23  5  6  6  4 23 13 14 14  1  9  0  9  6 18 17 18  7 16  0  6 17\n",
      " 16 13 12 18 19 23  6 13 20 15 23  1 22 14  3 20  9 15 22 15  8 14 10  9\n",
      "  1 10 21  7 16  5 15 17 14 20 20  9 12 11 22  1 20 15  5 17  3  6  7  5\n",
      "  1 13 11  2 23  3  7 14 21 23 12  4  0 13  0  4]\n",
      "pred: [22  3 21  6 13 18 10  9 11  8  4 21  3 23  1 20 11  3 22 13 10  5 15 22\n",
      " 16 12 16  4 10 21  0 14 18  3 23  8  6  3 13 19  4 13  7 11 21 15 19  1\n",
      "  7 20 13 15  6 16  3 10 19 23 17  4  7 17  8 13 19 10  7  9  3 15  8  4\n",
      "  3  7 17  8 17 21 10  4  6 10 23  8 10 12 18 22  8 15  6 10  3 15  0 13\n",
      " 10 10  3  3 11 17 18 22  0  7  0  3  5 18 22 13 13 15  8 19 12 10  3  1\n",
      " 10 21 15  0  3 13  8 21 16  1 22  6  7 17  8 13  3  8 19 19  9  0 19  8\n",
      "  2 22 23  4  4  5  3 23 13 15 13  1  7  0 10  6 19 17 19  5 22  0  6 22\n",
      " 16 15 12 18 17 23  5 13 18 15 23  1 22 15  3 21  8 15 22 13  8 13 10  7\n",
      "  1 10 21  7 17  6 15 22 13 21 19  8 10 10 22  0 20 13  3 17  3  5  5  5\n",
      "  1 15 11  1 23  3  9 15 21 23 12  3  0 15  0  3]\n",
      "Accuracy: 0.4698275862068966\n"
     ]
    }
   ],
   "source": [
    "y_pred = rf.predict(X_test)\n",
    "accuracy = accuracy_score(labels_test, y_pred)\n",
    "print('actual:', labels_test)\n",
    "print('pred:', y_pred)\n",
    "print(\"Accuracy:\", accuracy)"
   ]
  }
 ],
 "metadata": {
  "kernelspec": {
   "display_name": "Python 3",
   "language": "python",
   "name": "python3"
  },
  "language_info": {
   "codemirror_mode": {
    "name": "ipython",
    "version": 3
   },
   "file_extension": ".py",
   "mimetype": "text/x-python",
   "name": "python",
   "nbconvert_exporter": "python",
   "pygments_lexer": "ipython3",
   "version": "3.8.10"
  },
  "orig_nbformat": 4
 },
 "nbformat": 4,
 "nbformat_minor": 2
}
