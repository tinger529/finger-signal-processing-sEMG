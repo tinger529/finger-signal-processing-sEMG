{
 "cells": [
  {
   "attachments": {},
   "cell_type": "markdown",
   "metadata": {},
   "source": [
    "# Random Forest"
   ]
  },
  {
   "cell_type": "code",
   "execution_count": null,
   "metadata": {},
   "outputs": [],
   "source": [
    "import numpy as np\n",
    "import os\n",
    "from utilities_rf import *\n",
    "from sklearn.model_selection import train_test_split\n",
    "import matplotlib.pyplot as plt\n",
    "%matplotlib inline"
   ]
  },
  {
   "attachments": {},
   "cell_type": "markdown",
   "metadata": {},
   "source": [
    "## Prepare Data"
   ]
  },
  {
   "cell_type": "code",
   "execution_count": null,
   "metadata": {},
   "outputs": [],
   "source": [
    "random_seed = 20230523\n",
    "# files = [\n",
    "#     'rest.csv',\n",
    "#     '1st.csv',\n",
    "#     '2nd.csv',\n",
    "#     '3rd.csv',\n",
    "#     '4th.csv',\n",
    "#     '5th.csv'\n",
    "# ]\n",
    "files = [\n",
    "    'rest.csv',\n",
    "    '12.csv',\n",
    "    '13.csv',\n",
    "    '14.csv',\n",
    "    '15.csv',\n",
    "    '23.csv',\n",
    "    '24.csv',\n",
    "    '25.csv',\n",
    "    '34.csv',\n",
    "    '35.csv',\n",
    "    '45.csv',\n",
    "]\n",
    "\n",
    "# Load data\n",
    "path = os.path.abspath(os.getcwd()) # Get current path\n",
    "X_train, labels_train, list_ch_train, X_test, labels_test, list_ch_test = read_training_data(\n",
    "    data_path='%s%sdatasets/dataset4%s' % (path, os.sep, os.sep),\n",
    "    files=files,\n",
    "    shuffle=True,\n",
    "    sub_split=True,\n",
    ")\n",
    "\n",
    "assert list_ch_train == list_ch_test, 'Mismatch in channels!'"
   ]
  },
  {
   "cell_type": "code",
   "execution_count": null,
   "metadata": {},
   "outputs": [],
   "source": [
    "X_train, X_test = standardize(X_train, X_test)"
   ]
  },
  {
   "attachments": {},
   "cell_type": "markdown",
   "metadata": {},
   "source": [
    "#### Reshape"
   ]
  },
  {
   "cell_type": "code",
   "execution_count": null,
   "metadata": {},
   "outputs": [],
   "source": [
    "X_train = X_train.reshape(X_train.shape[0], -1)\n",
    "X_test = X_test.reshape(X_test.shape[0], -1) "
   ]
  },
  {
   "attachments": {},
   "cell_type": "markdown",
   "metadata": {},
   "source": [
    "## Fit and Evaluate Model"
   ]
  },
  {
   "cell_type": "code",
   "execution_count": null,
   "metadata": {},
   "outputs": [],
   "source": [
    "# Data Processing\n",
    "import pandas as pd\n",
    "import numpy as np\n",
    "\n",
    "# Modelling\n",
    "from sklearn.ensemble import RandomForestClassifier\n",
    "from sklearn.metrics import accuracy_score, confusion_matrix, precision_score, recall_score, ConfusionMatrixDisplay\n",
    "from sklearn.model_selection import RandomizedSearchCV, train_test_split\n",
    "from scipy.stats import randint\n",
    "\n",
    "# Tree Visualisation\n",
    "from sklearn.tree import export_graphviz\n",
    "from IPython.display import Image"
   ]
  },
  {
   "cell_type": "code",
   "execution_count": null,
   "metadata": {},
   "outputs": [],
   "source": [
    "rf = RandomForestClassifier(random_state=random_seed)\n",
    "rf.fit(X_train, labels_train)\n"
   ]
  },
  {
   "cell_type": "code",
   "execution_count": null,
   "metadata": {},
   "outputs": [],
   "source": [
    "y_pred = rf.predict(X_test)\n",
    "accuracy = accuracy_score(labels_test, y_pred)\n",
    "print(\"Accuracy:\", accuracy)"
   ]
  },
  {
   "attachments": {},
   "cell_type": "markdown",
   "metadata": {},
   "source": [
    "## Test\n"
   ]
  },
  {
   "cell_type": "code",
   "execution_count": null,
   "metadata": {},
   "outputs": [],
   "source": [
    "from test import *\n",
    "# files = [\n",
    "    # 'rest.csv',\n",
    "    # '1st.csv',\n",
    "    # '2nd.csv',\n",
    "    # '3rd.csv',\n",
    "    # '4th.csv',\n",
    "    # '5th.csv',\n",
    "# ]\n",
    "files = [\n",
    "    'rest.csv',\n",
    "    '12.csv',\n",
    "    '13.csv',\n",
    "    '14.csv',\n",
    "    '15.csv',\n",
    "    '23.csv',\n",
    "    '24.csv',\n",
    "    '25.csv',\n",
    "    '34.csv',\n",
    "    '35.csv',\n",
    "    '45.csv',\n",
    "]\n",
    "# read \n",
    "# test_classes = len(files)\n",
    "# path = os.path.abspath(os.getcwd()) # Get current path\n",
    "# X_test, labels_test, list_ch_test = read_testing_data(\n",
    "#     data_path='%s%stest_datasets/testdata3%s' % (path, os.sep, os.sep),\n",
    "#     files=files,\n",
    "#     n_classes=test_classes\n",
    "# )\n",
    "\n",
    "# # standardlize and reshape\n",
    "# X_test = (X_test - np.mean(X_test, axis=0)[None, :, :]) / np.std(X_test, axis=0)[None, :, :]\n",
    "# X_test = X_test.reshape(X_test.shape[0], -1) "
   ]
  },
  {
   "cell_type": "code",
   "execution_count": null,
   "metadata": {},
   "outputs": [],
   "source": [
    "y_pred = rf.predict(X_test)\n",
    "accuracy = accuracy_score(labels_test, y_pred)\n",
    "print('actual:', labels_test)\n",
    "print('pred:', y_pred)\n",
    "print(\"Accuracy:\", accuracy)"
   ]
  }
 ],
 "metadata": {
  "kernelspec": {
   "display_name": "Python 3",
   "language": "python",
   "name": "python3"
  },
  "language_info": {
   "codemirror_mode": {
    "name": "ipython",
    "version": 3
   },
   "file_extension": ".py",
   "mimetype": "text/x-python",
   "name": "python",
   "nbconvert_exporter": "python",
   "pygments_lexer": "ipython3",
   "version": "3.8.10"
  },
  "orig_nbformat": 4
 },
 "nbformat": 4,
 "nbformat_minor": 2
}
